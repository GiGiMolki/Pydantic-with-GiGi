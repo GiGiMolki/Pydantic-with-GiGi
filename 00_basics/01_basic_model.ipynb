{
 "cells": [
  {
   "cell_type": "markdown",
   "metadata": {},
   "source": [
    "# 📘 01 - Basic Pydantic Model\n",
    "\n",
    "Welcome to your first Pydantic model! In this notebook, we’ll explore:\n",
    "\n",
    "- How to define a basic model using `BaseModel`\n",
    "- How Pydantic uses Python type hints to validate data\n",
    "- How to access and export model data\n",
    "- What happens when you pass invalid types"
   ]
  },
  {
   "cell_type": "code",
   "execution_count": null,
   "metadata": {},
   "outputs": [],
   "source": [
    "# Uncomment if Pydantic is not installed\n",
    "# !pip install pydantic"
   ]
  },
  {
   "cell_type": "markdown",
   "metadata": {},
   "source": [
    "## ✅ Step 1: Define Your First Pydantic Model\n",
    "\n",
    "We create a simple `User` model by inheriting from `BaseModel`.  \n",
    "Each field has a **type annotation** that Pydantic will enforce."
   ]
  },
  {
   "cell_type": "code",
   "execution_count": null,
   "metadata": {},
   "outputs": [],
   "source": [
    "from pydantic import BaseModel\n",
    "\n",
    "class User(BaseModel):\n",
    "    id: int                 # Must be an integer\n",
    "    name: str               # Must be a string\n",
    "    email: str              # Must be a string (email format not checked here)\n",
    "    is_active: bool = True  # Optional field with a default value"
   ]
  },
  {
   "cell_type": "markdown",
   "metadata": {},
   "source": [
    "## 🎯 Step 2: Create a Valid User\n",
    "\n",
    "Now let's create a valid user instance.  \n",
    "Pydantic will automatically parse and validate the data for us."
   ]
  },
  {
   "cell_type": "code",
   "execution_count": null,
   "metadata": {},
   "outputs": [],
   "source": [
    "user = User(id=1, name=\"GiGi\", email=\"gigi@example.com\")\n",
    "\n",
    "print(user)  # Nicely formatted output"
   ]
  },
  {
   "cell_type": "markdown",
   "metadata": {},
   "source": [
    "## 📦 Step 3: Access & Export Model Data\n",
    "\n",
    "You can use dot notation to access fields just like a regular class.  \n",
    "You can also convert the entire model to a dictionary using `.dict()`."
   ]
  },
  {
   "cell_type": "code",
   "execution_count": null,
   "metadata": {},
   "outputs": [],
   "source": [
    "# Access individual fields\n",
    "print(\"User ID:\", user.id)\n",
    "print(\"User Name:\", user.name)\n",
    "print(\"User Email:\", user.email)\n",
    "print(\"Is Active:\", user.is_active)\n",
    "\n",
    "# Convert to dictionary\n",
    "print(\"As dictionary:\", user.dict())"
   ]
  },
  {
   "cell_type": "markdown",
   "metadata": {},
   "source": [
    "## ⚠️ Step 4: Validation in Action\n",
    "\n",
    "Let's see what happens when we pass incorrect data types.  \n",
    "Uncomment the following cell to trigger a `ValidationError`."
   ]
  },
  {
   "cell_type": "code",
   "execution_count": null,
   "metadata": {},
   "outputs": [],
   "source": [
    "# Uncomment to see validation fail\n",
    "# invalid_user = User(id=\"abc\", name=123, email=True)"
   ]
  },
  {
   "cell_type": "markdown",
   "metadata": {},
   "source": [
    "## 🧠 Recap: Key Concepts from This Notebook\n",
    "\n",
    "- ✅ `BaseModel` is the foundation for Pydantic models.\n",
    "- ✅ Type hints are required and drive validation.\n",
    "- ✅ You can assign default values to make fields optional.\n",
    "- ✅ Pydantic models are easy to serialize and access.\n",
    "- ✅ If the data is invalid, a `ValidationError` will be raised.\n",
    "\n",
    "In the next notebook, we'll explore **type coercion and conversions** like how `\"123\"` becomes `123` automatically."
   ]
  }
 ],
 "metadata": {
  "kernelspec": {
   "display_name": "Python 3",
   "language": "python",
   "name": "python3"
  },
  "language_info": {
   "codemirror_mode": {
    "name": "ipython",
    "version": 3
   },
   "file_extension": ".py",
   "mimetype": "text/x-python",
   "name": "python",
   "nbconvert_exporter": "python",
   "pygments_lexer": "ipython3",
   "version": "3.13.1"
  }
 },
 "nbformat": 4,
 "nbformat_minor": 2
}
