{
 "cells": [
  {
   "cell_type": "markdown",
   "metadata": {},
   "source": [
    "# 📘 02 - Type Annotations in Pydantic\n",
    "\n",
    "In this notebook, we'll understand the importance of **type annotations** in Pydantic models.\n",
    "\n",
    "\n",
    "### 🧠 Why Type Annotations Matter\n",
    "\n",
    "In Python, **type annotations** are optional hints that specify the expected data types of variables or function arguments. Pydantic takes them seriously and uses them for:\n",
    "\n",
    "- **Data validation**: Ensures input data matches the expected types\n",
    "- **Type coercion**: Tries to automatically convert compatible types (e.g., `\"123\"` to `int`)\n",
    "- **Helpful error messages** when validation fails\n",
    "\n",
    "This makes Pydantic extremely useful in real-world applications where incoming data (from APIs, forms, or external sources) may be unstructured or inconsistent."
   ]
  },
  {
   "cell_type": "code",
   "execution_count": null,
   "metadata": {},
   "outputs": [],
   "source": [
    "# Import BaseModel\n",
    "from pydantic import BaseModel"
   ]
  },
  {
   "cell_type": "markdown",
   "metadata": {},
   "source": [
    "## 🔧 Step 1: Define a Model with Different Field Types\n",
    "\n",
    "We’ll define a `Product` model with various field types:\n",
    "- `id` as an integer\n",
    "- `name` as a string\n",
    "- `price` as a float\n",
    "- `in_stock` as a boolean"
   ]
  },
  {
   "cell_type": "code",
   "execution_count": null,
   "metadata": {},
   "outputs": [],
   "source": [
    "# Define Product Model\n",
    "\n",
    "class Product(BaseModel):\n",
    "    id: int\n",
    "    name: str\n",
    "    price: float\n",
    "    in_stock: bool = True"
   ]
  },
  {
   "cell_type": "markdown",
   "metadata": {},
   "source": [
    "## ✅ Step 2: Create a Valid Product\n",
    "\n",
    "When we pass data that matches the expected types, Pydantic accepts it without issue."
   ]
  },
  {
   "cell_type": "code",
   "execution_count": null,
   "metadata": {},
   "outputs": [],
   "source": [
    "# Valid Input\n",
    "\n",
    "item = Product(id=101, name=\"Keyboard\", price=599.99, in_stock=True)\n",
    "print(item)"
   ]
  },
  {
   "cell_type": "markdown",
   "metadata": {},
   "source": [
    "## 🔁 Step 3: Pydantic Can Coerce Compatible Types\n",
    "\n",
    "Now let’s try passing incorrect types — strings instead of int/float/bool.\n",
    "\n",
    "In real life, this happens a lot (e.g., from form inputs or JSON APIs).  \n",
    "Pydantic tries to **coerce** the data to the correct type."
   ]
  },
  {
   "cell_type": "code",
   "execution_count": null,
   "metadata": {},
   "outputs": [],
   "source": [
    "# Type Coercion Example\n",
    "item = Product(id=\"101\", name=1234, price=\"599.99\", in_stock=\"false\")\n",
    "print(item)"
   ]
  },
  {
   "cell_type": "markdown",
   "metadata": {},
   "source": [
    "## 🤖 What Happened Behind the Scenes?\n",
    "\n",
    "Pydantic tried to **convert** everything:\n",
    "- `\"101\"` → `int` → ✅\n",
    "- `1234` → `str` → `\"1234\"` → ❌\n",
    "- `\"599.99\"` → `float` → ✅\n",
    "- `\"false\"` → `bool` → `False` → ✅\n",
    "\n",
    "This makes your application **resilient** to messy inputs from external sources."
   ]
  },
  {
   "cell_type": "code",
   "execution_count": null,
   "metadata": {},
   "outputs": [],
   "source": [
    "# v2-Compatible Coercion\n",
    "item = Product(\n",
    "    id=\"101\",                # string that can become int\n",
    "    name=\"Keyboard\",         # valid string\n",
    "    price=\"599.99\",          # string that can become float\n",
    "    in_stock=\"false\"         # string that can become bool\n",
    ")\n",
    "print(item)"
   ]
  },
  {
   "cell_type": "markdown",
   "metadata": {},
   "source": [
    "## ⚙️ Type Coercion: What's Allowed in Pydantic v2?\n",
    "\n",
    "Pydantic v2 is stricter than v1. Some key changes:\n",
    "- ✅ Coercion still works for compatible types (e.g., `\"123\"` → int, `\"true\"` → bool).\n",
    "- ❌ Coercion is **not** allowed when it requires **implicit casting** (e.g., `1234` → str).\n",
    "\n",
    "This makes data validation **more explicit and safer**, especially when dealing with APIs or typed interfaces.\n",
    "\n",
    "\n",
    "🔁 **If you still want to allow automatic conversions like `1234` → `\"1234\"`**, you need to define a **custom validator**."
   ]
  },
  {
   "cell_type": "markdown",
   "metadata": {},
   "source": [
    "## 💥 Step 4: What Happens When Coercion Fails?\n",
    "\n",
    "If the input is **completely incompatible**, Pydantic will throw a `ValidationError`."
   ]
  },
  {
   "cell_type": "code",
   "execution_count": null,
   "metadata": {},
   "outputs": [],
   "source": [
    "# Force an Error\n",
    "# Fails because 'price' is not convertible to float\n",
    "from pydantic import ValidationError\n",
    "\n",
    "try:\n",
    "    Product(id=\"x\", name=[], price=\"not-a-float\", in_stock=\"maybe\")\n",
    "except ValidationError as e:\n",
    "    print(e)"
   ]
  },
  {
   "cell_type": "markdown",
   "metadata": {},
   "source": [
    "## ✅ Summary: Why Type Annotations Are a Superpower\n",
    "\n",
    "- Type annotations are not just hints — they **define the structure** of your data.\n",
    "- Pydantic **validates** and **coerces** data to fit your model.\n",
    "- If conversion is impossible, it throws a detailed `ValidationError`.\n",
    "\n",
    "---\n",
    "\n",
    "### 📦 Use Case: Robust Data Handling\n",
    "\n",
    "When you're receiving data from:\n",
    "- 🧑 Users (e.g., web forms)\n",
    "- 🌐 APIs (e.g., JSON)\n",
    "- 🧾 External CSV/Excel files\n",
    "\n",
    "...you often **don’t control the input types**. Pydantic helps you clean and validate them automatically.\n",
    "\n",
    "> In the next notebook, we’ll explore **field constraints** — how to make fields stricter using things like `min_length`, `gt`, and regex."
   ]
  }
 ],
 "metadata": {
  "kernelspec": {
   "display_name": "Python 3",
   "language": "python",
   "name": "python3"
  },
  "language_info": {
   "codemirror_mode": {
    "name": "ipython",
    "version": 3
   },
   "file_extension": ".py",
   "mimetype": "text/x-python",
   "name": "python",
   "nbconvert_exporter": "python",
   "pygments_lexer": "ipython3",
   "version": "3.13.1"
  }
 },
 "nbformat": 4,
 "nbformat_minor": 2
}
