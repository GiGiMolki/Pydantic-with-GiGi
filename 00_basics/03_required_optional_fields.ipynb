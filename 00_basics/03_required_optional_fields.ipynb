{
 "cells": [
  {
   "cell_type": "markdown",
   "metadata": {},
   "source": [
    "# 📘 03 - Required vs Optional Fields in Pydantic\n",
    "\n",
    "In this notebook, we’ll explore how to control whether fields in your Pydantic model are **mandatory or optional**.\n",
    "\n",
    "## 🔎 Why Is This Important?\n",
    "\n",
    "In real-world APIs or form data:\n",
    "- Some fields are **mandatory** (e.g., email, username)\n",
    "- Others are **optional** (e.g., phone number, middle name)\n",
    "\n",
    "Pydantic helps us enforce these rules easily using:\n",
    "- Default values\n",
    "- `Optional[...]` from `typing`\n",
    "- `None` as a valid value"
   ]
  },
  {
   "cell_type": "code",
   "execution_count": 3,
   "metadata": {},
   "outputs": [],
   "source": [
    "# Import Required Modules\n",
    "from pydantic import BaseModel\n",
    "from typing import Optional"
   ]
  },
  {
   "cell_type": "markdown",
   "metadata": {},
   "source": [
    "## ✅ Step 1: All Fields Required by Default\n",
    "\n",
    "If you don’t provide a default value, the field is **required**."
   ]
  },
  {
   "cell_type": "code",
   "execution_count": 4,
   "metadata": {},
   "outputs": [
    {
     "name": "stdout",
     "output_type": "stream",
     "text": [
      "1 validation error for User\n",
      "email\n",
      "  Field required [type=missing, input_value={'username': 'gigi'}, input_type=dict]\n",
      "    For further information visit https://errors.pydantic.dev/2.11/v/missing\n"
     ]
    }
   ],
   "source": [
    "# Required Fields Example\n",
    "class User(BaseModel):\n",
    "    username: str\n",
    "    email: str\n",
    "\n",
    "# This will raise an error if a required field is missing\n",
    "try:\n",
    "    user = User(username=\"gigi\")\n",
    "except Exception as e:\n",
    "    print(e)"
   ]
  },
  {
   "cell_type": "markdown",
   "metadata": {},
   "source": [
    "## ✅ Step 2: Optional Fields — Using Default Values\n",
    "\n",
    "If you provide a default value, the field becomes **optional**."
   ]
  },
  {
   "cell_type": "code",
   "execution_count": 5,
   "metadata": {},
   "outputs": [
    {
     "name": "stdout",
     "output_type": "stream",
     "text": [
      "username='gigi' email='gigi@example.com' phone='N/A'\n"
     ]
    }
   ],
   "source": [
    "# Optional Field with Default\n",
    "class User(BaseModel):\n",
    "    username: str\n",
    "    email: str\n",
    "    phone: str = \"N/A\"  # optional with default\n",
    "\n",
    "user = User(username=\"gigi\", email=\"gigi@example.com\")\n",
    "print(user)"
   ]
  },
  {
   "cell_type": "markdown",
   "metadata": {},
   "source": [
    "## 🤔 Step 3: Using Optional[Type]\n",
    "\n",
    "`Optional[str]` means the field:\n",
    "- Can be a `str`\n",
    "- Or can be `None`\n",
    "\n",
    "This doesn’t make the field optional by itself — it just allows `None` as a valid value."
   ]
  },
  {
   "cell_type": "code",
   "execution_count": 6,
   "metadata": {},
   "outputs": [
    {
     "name": "stdout",
     "output_type": "stream",
     "text": [
      "1 validation error for User\n",
      "phone\n",
      "  Field required [type=missing, input_value={'username': 'gigi', 'email': 'gigi@example.com'}, input_type=dict]\n",
      "    For further information visit https://errors.pydantic.dev/2.11/v/missing\n"
     ]
    }
   ],
   "source": [
    "# Optional Type Without Default\n",
    "class User(BaseModel):\n",
    "    username: str\n",
    "    email: str\n",
    "    phone: Optional[str]  # Still required if no default is given\n",
    "\n",
    "try:\n",
    "    user = User(username=\"gigi\", email=\"gigi@example.com\")\n",
    "except Exception as e:\n",
    "    print(e)"
   ]
  },
  {
   "cell_type": "markdown",
   "metadata": {},
   "source": [
    "## 🧠 Best Practice: Optional[...] + Default = Truly Optional\n",
    "\n",
    "To make a field truly optional and allow `None`, combine:\n",
    "- `Optional[...]`\n",
    "- Default value (`None`)"
   ]
  },
  {
   "cell_type": "code",
   "execution_count": 7,
   "metadata": {},
   "outputs": [
    {
     "name": "stdout",
     "output_type": "stream",
     "text": [
      "username='gigi' email='gigi@example.com' phone=None\n"
     ]
    }
   ],
   "source": [
    "# Truly Optional Field\n",
    "class User(BaseModel):\n",
    "    username: str\n",
    "    email: str\n",
    "    phone: Optional[str] = None  # optional + allows None\n",
    "\n",
    "user = User(username=\"gigi\", email=\"gigi@example.com\")\n",
    "print(user)"
   ]
  },
  {
   "cell_type": "markdown",
   "metadata": {},
   "source": [
    "## 🧾 Summary: Required vs Optional in Pydantic\n",
    "\n",
    "| Declaration                     | Required? | Accepts None? |\n",
    "|--------------------------------|-----------|----------------|\n",
    "| `field: str`                   | ✅ Yes    | ❌ No          |\n",
    "| `field: str = 'default'`       | ❌ No     | ❌ No          |\n",
    "| `field: Optional[str]`         | ✅ Yes    | ✅ Yes         |\n",
    "| `field: Optional[str] = None`  | ❌ No     | ✅ Yes         |\n",
    "\n",
    "---\n",
    "\n",
    "Pydantic gives you precise control over data inputs — making your APIs, forms, and data pipelines safer and more predictable."
   ]
  }
 ],
 "metadata": {
  "kernelspec": {
   "display_name": "Python 3",
   "language": "python",
   "name": "python3"
  },
  "language_info": {
   "codemirror_mode": {
    "name": "ipython",
    "version": 3
   },
   "file_extension": ".py",
   "mimetype": "text/x-python",
   "name": "python",
   "nbconvert_exporter": "python",
   "pygments_lexer": "ipython3",
   "version": "3.13.1"
  }
 },
 "nbformat": 4,
 "nbformat_minor": 2
}
