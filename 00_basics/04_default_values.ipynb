{
 "cells": [
  {
   "cell_type": "markdown",
   "metadata": {},
   "source": [
    "# 📘 04 - Default Values in Pydantic\n",
    "\n",
    "In this notebook, we'll explore how to use **default values** for fields in Pydantic models.\n",
    "\n",
    "## 🔍 Why Do We Need Default Values?\n",
    "\n",
    "Default values:\n",
    "- Prevent errors from missing data\n",
    "- Allow optional fields with fallback values\n",
    "- Improve flexibility for user input, APIs, or configurations\n",
    "\n",
    "Pydantic lets you define defaults in two ways:\n",
    "- By using standard Python assignment (`=`)\n",
    "- Using `Field(...)` for more control"
   ]
  },
  {
   "cell_type": "code",
   "execution_count": 1,
   "metadata": {},
   "outputs": [],
   "source": [
    "# Import Required Modules\n",
    "from pydantic import BaseModel, Field\n",
    "from datetime import datetime\n",
    "from typing import Optional"
   ]
  },
  {
   "cell_type": "markdown",
   "metadata": {},
   "source": [
    "## ✅ 1. Static Defaults Using Assignment (=)\n",
    "\n",
    "This is the simplest way to assign default values."
   ]
  },
  {
   "cell_type": "code",
   "execution_count": 2,
   "metadata": {},
   "outputs": [
    {
     "name": "stdout",
     "output_type": "stream",
     "text": [
      "username='gigi' role='user'\n"
     ]
    }
   ],
   "source": [
    "# Static Default Example\n",
    "class User(BaseModel):\n",
    "    username: str\n",
    "    role: str = \"user\"  # default value\n",
    "\n",
    "user = User(username=\"gigi\")\n",
    "print(user)"
   ]
  },
  {
   "cell_type": "markdown",
   "metadata": {},
   "source": [
    "## ✅ 2. Optional Fields with Defaults\n",
    "\n",
    "If a field is optional and has a default, it won't raise errors if missing."
   ]
  },
  {
   "cell_type": "code",
   "execution_count": 3,
   "metadata": {},
   "outputs": [
    {
     "name": "stdout",
     "output_type": "stream",
     "text": [
      "username='gigi' email=None\n"
     ]
    }
   ],
   "source": [
    "# Optional with Default = None\n",
    "class User(BaseModel):\n",
    "    username: str\n",
    "    email: Optional[str] = None  # optional and defaults to None\n",
    "\n",
    "user = User(username=\"gigi\")\n",
    "print(user)"
   ]
  },
  {
   "cell_type": "markdown",
   "metadata": {},
   "source": [
    "## ⚙️ 3. Dynamic Defaults Using Field(...)\n",
    "\n",
    "Use `Field(default=...)` when you need:\n",
    "- Clearer intent\n",
    "- Metadata like `description`, `title`, `gt`, `lt`\n",
    "- Dynamic or computed defaults (via `default_factory`)"
   ]
  },
  {
   "cell_type": "code",
   "execution_count": 4,
   "metadata": {},
   "outputs": [
    {
     "name": "stdout",
     "output_type": "stream",
     "text": [
      "name='USB Hub' price=99.99\n"
     ]
    }
   ],
   "source": [
    "# Field with Default Value\n",
    "class Product(BaseModel):\n",
    "    name: str\n",
    "    price: float = Field(default=99.99, description=\"Default price\")\n",
    "\n",
    "product = Product(name=\"USB Hub\")\n",
    "print(product)"
   ]
  },
  {
   "cell_type": "markdown",
   "metadata": {},
   "source": [
    "## 🧪 4. Runtime Defaults with default_factory\n",
    "\n",
    "Use `default_factory` to generate a **new value each time** the model is created (e.g., timestamps)."
   ]
  },
  {
   "cell_type": "code",
   "execution_count": 5,
   "metadata": {},
   "outputs": [
    {
     "name": "stdout",
     "output_type": "stream",
     "text": [
      "2025-07-10 16:56:12.620160\n",
      "2025-07-10 16:56:12.620212\n"
     ]
    }
   ],
   "source": [
    "# default_factory for Dynamic Fields\n",
    "class Log(BaseModel):\n",
    "    message: str\n",
    "    timestamp: datetime = Field(default_factory=datetime.utcnow)\n",
    "\n",
    "log1 = Log(message=\"User logged in\")\n",
    "log2 = Log(message=\"User logged out\")\n",
    "\n",
    "print(log1.timestamp)\n",
    "print(log2.timestamp)"
   ]
  },
  {
   "cell_type": "markdown",
   "metadata": {},
   "source": [
    "## 🧾 Summary: Default Values in Pydantic\n",
    "\n",
    "| Method                      | Use Case                        |\n",
    "|----------------------------|----------------------------------|\n",
    "| `field = value`            | Static defaults (simplest way)  |\n",
    "| `Optional[type] = None`    | Optional field that can be None |\n",
    "| `Field(default=...)`       | Add metadata or constraints     |\n",
    "| `Field(default_factory=...)` | Dynamic runtime defaults       |\n",
    "\n",
    "Default values make your models more **resilient and flexible** in real-world applications."
   ]
  }
 ],
 "metadata": {
  "kernelspec": {
   "display_name": "Python 3",
   "language": "python",
   "name": "python3"
  },
  "language_info": {
   "codemirror_mode": {
    "name": "ipython",
    "version": 3
   },
   "file_extension": ".py",
   "mimetype": "text/x-python",
   "name": "python",
   "nbconvert_exporter": "python",
   "pygments_lexer": "ipython3",
   "version": "3.13.1"
  }
 },
 "nbformat": 4,
 "nbformat_minor": 2
}
