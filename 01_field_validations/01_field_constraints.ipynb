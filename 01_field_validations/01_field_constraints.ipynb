{
 "cells": [
  {
   "cell_type": "markdown",
   "metadata": {},
   "source": [
    "# 📘 05 - Field Constraints in Pydantic\n",
    "\n",
    "Field constraints let you enforce rules on the values your model accepts.\n",
    "\n",
    "---\n",
    "\n",
    "## 🔍 Why Are Field Constraints Important?\n",
    "\n",
    "In real-world systems (APIs, forms, configs), we want to:\n",
    "- Enforce string lengths, numeric limits\n",
    "- Validate email, phone formats\n",
    "- Prevent invalid or unexpected values\n",
    "\n",
    "Pydantic provides these constraints via `Field(...)` and built-in validators."
   ]
  },
  {
   "cell_type": "code",
   "execution_count": 3,
   "metadata": {},
   "outputs": [],
   "source": [
    "# Imports\n",
    "from pydantic import BaseModel, Field"
   ]
  },
  {
   "cell_type": "markdown",
   "metadata": {},
   "source": [
    "## 🔡 1. String Constraints\n",
    "\n",
    "You can enforce:\n",
    "- `min_length` / `max_length`\n",
    "- `regex` pattern"
   ]
  },
  {
   "cell_type": "code",
   "execution_count": 4,
   "metadata": {},
   "outputs": [
    {
     "name": "stdout",
     "output_type": "stream",
     "text": [
      "username='gigi' email='gigi@example.com'\n",
      "2 validation errors for User\n",
      "username\n",
      "  String should have at least 3 characters [type=string_too_short, input_value='gi', input_type=str]\n",
      "    For further information visit https://errors.pydantic.dev/2.11/v/string_too_short\n",
      "email\n",
      "  String should match pattern '^\\S+@\\S+\\.\\S+$' [type=string_pattern_mismatch, input_value='wrong-email', input_type=str]\n",
      "    For further information visit https://errors.pydantic.dev/2.11/v/string_pattern_mismatch\n"
     ]
    }
   ],
   "source": [
    "from pydantic import BaseModel, Field\n",
    "\n",
    "# ✅ String Constraint Example (Pydantic v2 compatible)\n",
    "class User(BaseModel):\n",
    "    username: str = Field(min_length=3, max_length=15)\n",
    "    email: str = Field(pattern=r\"^\\S+@\\S+\\.\\S+$\")  # ✅ use `pattern` instead of `regex`\n",
    "\n",
    "# Valid input\n",
    "user = User(username=\"gigi\", email=\"gigi@example.com\")\n",
    "print(user)\n",
    "\n",
    "# Invalid input → triggers ValidationError\n",
    "try:\n",
    "    invalid_user = User(username=\"gi\", email=\"wrong-email\")\n",
    "except Exception as e:\n",
    "    print(e)"
   ]
  },
  {
   "cell_type": "markdown",
   "metadata": {},
   "source": [
    "## 🔢 2. Numeric Constraints\n",
    "\n",
    "Use:\n",
    "- `gt` (greater than)\n",
    "- `ge` (greater or equal)\n",
    "- `lt` (less than)\n",
    "- `le` (less or equal)"
   ]
  },
  {
   "cell_type": "code",
   "execution_count": 5,
   "metadata": {},
   "outputs": [
    {
     "name": "stdout",
     "output_type": "stream",
     "text": [
      "name='Laptop' price=899.99\n",
      "1 validation error for Product\n",
      "price\n",
      "  Input should be greater than 0 [type=greater_than, input_value=0, input_type=int]\n",
      "    For further information visit https://errors.pydantic.dev/2.11/v/greater_than\n"
     ]
    }
   ],
   "source": [
    "# Numeric Constraints Example\n",
    "class Product(BaseModel):\n",
    "    name: str\n",
    "    price: float = Field(gt=0, le=10000)  # must be > 0 and <= 10000\n",
    "\n",
    "product = Product(name=\"Laptop\", price=899.99)\n",
    "print(product)\n",
    "\n",
    "# Invalid price (zero or too high)\n",
    "try:\n",
    "    bad_product = Product(name=\"TV\", price=0)\n",
    "except Exception as e:\n",
    "    print(e)"
   ]
  },
  {
   "cell_type": "markdown",
   "metadata": {},
   "source": [
    "## 🧪 3. Default Values With Constraints\n",
    "\n",
    "You can combine constraints with defaults to create safe fallback behavior."
   ]
  },
  {
   "cell_type": "code",
   "execution_count": 6,
   "metadata": {},
   "outputs": [
    {
     "name": "stdout",
     "output_type": "stream",
     "text": [
      "name='Notebook' stock=1\n"
     ]
    }
   ],
   "source": [
    "# Combining Default with Constraints\n",
    "class Item(BaseModel):\n",
    "    name: str\n",
    "    stock: int = Field(default=1, ge=0)  # default stock can't be negative\n",
    "\n",
    "item = Item(name=\"Notebook\")\n",
    "print(item)"
   ]
  },
  {
   "cell_type": "markdown",
   "metadata": {},
   "source": [
    "## ✅ Summary: Common Field Constraints\n",
    "\n",
    "| Constraint        | Description                            |\n",
    "|------------------|----------------------------------------|\n",
    "| `min_length`      | Minimum length for strings             |\n",
    "| `max_length`      | Maximum length for strings             |\n",
    "| `regex`           | Pattern match for strings              |\n",
    "| `gt`, `ge`        | Greater than / Greater or equal        |\n",
    "| `lt`, `le`        | Less than / Less or equal              |\n",
    "| `default=...`     | Default value                          |\n",
    "| `default_factory=...` | Dynamic default value              |\n",
    "\n",
    "Using `Field(...)` gives you precise control over validation — making your models safer and stricter by design."
   ]
  }
 ],
 "metadata": {
  "kernelspec": {
   "display_name": "Python 3",
   "language": "python",
   "name": "python3"
  },
  "language_info": {
   "codemirror_mode": {
    "name": "ipython",
    "version": 3
   },
   "file_extension": ".py",
   "mimetype": "text/x-python",
   "name": "python",
   "nbconvert_exporter": "python",
   "pygments_lexer": "ipython3",
   "version": "3.13.1"
  }
 },
 "nbformat": 4,
 "nbformat_minor": 2
}
