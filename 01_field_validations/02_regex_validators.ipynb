{
 "cells": [
  {
   "cell_type": "markdown",
   "metadata": {},
   "source": [
    "# 📘 06 - Regex Validators in Pydantic\n",
    "\n",
    "Pydantic supports powerful regex-based validation for string fields.\n",
    "\n",
    "---\n",
    "\n",
    "## 🔍 Why Regex Validation?\n",
    "\n",
    "Regex (Regular Expressions) allow you to define **text patterns** — great for:\n",
    "- Email, username, phone number formats\n",
    "- Password strength\n",
    "- Custom ID formats\n",
    "\n",
    "In **Pydantic v2**, use `pattern=` inside `Field(...)` to enforce a pattern.\n",
    "\n",
    "You can also create **custom validators** using the `@field_validator` decorator if your logic is more complex."
   ]
  },
  {
   "cell_type": "code",
   "execution_count": 1,
   "metadata": {},
   "outputs": [],
   "source": [
    "# Import\n",
    "from pydantic import BaseModel, Field"
   ]
  },
  {
   "cell_type": "markdown",
   "metadata": {},
   "source": [
    "## ✅ 1. Pattern Matching with `pattern=`\n",
    "\n",
    "Let’s validate an email field using a regex pattern (Pydantic v2)."
   ]
  },
  {
   "cell_type": "code",
   "execution_count": 2,
   "metadata": {},
   "outputs": [
    {
     "name": "stdout",
     "output_type": "stream",
     "text": [
      "username='gigi' email='gigi@example.com'\n",
      "1 validation error for User\n",
      "email\n",
      "  String should match pattern '^\\S+@\\S+\\.\\S+$' [type=string_pattern_mismatch, input_value='invalid-email', input_type=str]\n",
      "    For further information visit https://errors.pydantic.dev/2.11/v/string_pattern_mismatch\n"
     ]
    }
   ],
   "source": [
    "# Email Pattern Example\n",
    "class User(BaseModel):\n",
    "    username: str\n",
    "    email: str = Field(pattern=r\"^\\S+@\\S+\\.\\S+$\")  # simple email regex\n",
    "\n",
    "# Valid case\n",
    "user = User(username=\"gigi\", email=\"gigi@example.com\")\n",
    "print(user)\n",
    "\n",
    "# Invalid email\n",
    "try:\n",
    "    bad = User(username=\"gigi\", email=\"invalid-email\")\n",
    "except Exception as e:\n",
    "    print(e)"
   ]
  },
  {
   "cell_type": "markdown",
   "metadata": {},
   "source": [
    "## ☎️ 2. Custom Regex with `pattern` — Phone Number\n",
    "\n",
    "We can validate phone numbers using a specific pattern like `+91-XXXXXXXXXX`."
   ]
  },
  {
   "cell_type": "code",
   "execution_count": 3,
   "metadata": {},
   "outputs": [
    {
     "name": "stdout",
     "output_type": "stream",
     "text": [
      "name='GiGi' phone='+91-9876543210'\n",
      "1 validation error for Contact\n",
      "phone\n",
      "  String should match pattern '^\\+91-\\d{10}$' [type=string_pattern_mismatch, input_value='98765', input_type=str]\n",
      "    For further information visit https://errors.pydantic.dev/2.11/v/string_pattern_mismatch\n"
     ]
    }
   ],
   "source": [
    "# Phone Pattern\n",
    "class Contact(BaseModel):\n",
    "    name: str\n",
    "    phone: str = Field(pattern=r\"^\\+91-\\d{10}$\")  # e.g., +91-9876543210\n",
    "\n",
    "# Valid number\n",
    "print(Contact(name=\"GiGi\", phone=\"+91-9876543210\"))\n",
    "\n",
    "# Invalid number\n",
    "try:\n",
    "    wrong = Contact(name=\"Gireesh\", phone=\"98765\")\n",
    "except Exception as e:\n",
    "    print(e)"
   ]
  },
  {
   "cell_type": "markdown",
   "metadata": {},
   "source": [
    "## 🔐 3. Custom Validator for Password Strength\n",
    "\n",
    "Use `@field_validator` when regex is part of custom logic — like password rules:\n",
    "- 8+ chars\n",
    "- At least one uppercase\n",
    "- One number\n",
    "- One special char"
   ]
  },
  {
   "cell_type": "code",
   "execution_count": 4,
   "metadata": {},
   "outputs": [
    {
     "name": "stdout",
     "output_type": "stream",
     "text": [
      "username='gigi' password='Pass123!'\n"
     ]
    }
   ],
   "source": [
    "# Custom Password Validator\n",
    "import re\n",
    "from pydantic import field_validator\n",
    "\n",
    "class SignUpModel(BaseModel):\n",
    "    username: str\n",
    "    password: str\n",
    "\n",
    "    @field_validator(\"password\")\n",
    "    def check_password_strength(cls, value):\n",
    "        if len(value) < 8:\n",
    "            raise ValueError(\"Password must be at least 8 characters.\")\n",
    "        if not re.search(r\"[A-Z]\", value):\n",
    "            raise ValueError(\"Must include at least one uppercase letter.\")\n",
    "        if not re.search(r\"\\d\", value):\n",
    "            raise ValueError(\"Must include at least one digit.\")\n",
    "        if not re.search(r\"[!@#$%^&*()_+]\", value):\n",
    "            raise ValueError(\"Must include a special character.\")\n",
    "        return value\n",
    "\n",
    "# Test it\n",
    "try:\n",
    "    user = SignUpModel(username=\"gigi\", password=\"Pass123!\")\n",
    "    print(user)\n",
    "except Exception as e:\n",
    "    print(e)"
   ]
  },
  {
   "cell_type": "markdown",
   "metadata": {},
   "source": [
    "## 🧾 Summary\n",
    "\n",
    "| Method                      | Use Case                                |\n",
    "|----------------------------|------------------------------------------|\n",
    "| `pattern=` in `Field()`     | Simple pattern match (e.g. email, phone) |\n",
    "| `@field_validator`          | Complex patterns, multiple checks        |\n",
    "| `re` module                 | For full regex control inside validators |\n",
    "\n",
    "Regex helps prevent invalid or malicious input before your logic even runs. Combine `pattern` and custom validators for best results. 💪"
   ]
  }
 ],
 "metadata": {
  "kernelspec": {
   "display_name": "Python 3",
   "language": "python",
   "name": "python3"
  },
  "language_info": {
   "codemirror_mode": {
    "name": "ipython",
    "version": 3
   },
   "file_extension": ".py",
   "mimetype": "text/x-python",
   "name": "python",
   "nbconvert_exporter": "python",
   "pygments_lexer": "ipython3",
   "version": "3.13.1"
  }
 },
 "nbformat": 4,
 "nbformat_minor": 2
}
