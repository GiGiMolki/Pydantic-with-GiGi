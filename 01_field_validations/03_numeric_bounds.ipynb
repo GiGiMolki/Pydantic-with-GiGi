{
 "cells": [
  {
   "cell_type": "markdown",
   "metadata": {},
   "source": [
    "# 📗 03 - Numeric Bounds in Pydantic\n",
    "\n",
    "Pydantic lets you enforce numeric constraints directly in your model using the `Field()` class.\n",
    "\n",
    "This is especially useful for validating:\n",
    "- 📊 Ages\n",
    "- 💵 Prices\n",
    "- 🎯 Percentages\n",
    "- 📦 Quantities\n",
    "\n",
    "You can define:\n",
    "- `gt`: greater than\n",
    "- `ge`: greater than or equal\n",
    "- `lt`: less than\n",
    "- `le`: less than or equal\n",
    "\n",
    "Let’s explore how!"
   ]
  },
  {
   "cell_type": "code",
   "execution_count": null,
   "metadata": {},
   "outputs": [],
   "source": [
    "# Import\n",
    "from pydantic import BaseModel, Field"
   ]
  },
  {
   "cell_type": "markdown",
   "metadata": {},
   "source": [
    "## 🧓 Age Example: Must be between 18 and 60"
   ]
  },
  {
   "cell_type": "code",
   "execution_count": null,
   "metadata": {},
   "outputs": [],
   "source": [
    "class Person(BaseModel):\n",
    "    name: str\n",
    "    age: int = Field(ge=18, le=60)  # age must be between 18 and 60 (inclusive)\n",
    "\n",
    "# Valid input\n",
    "person = Person(name=\"GiGi\", age=25)\n",
    "print(person)\n",
    "\n",
    "# Invalid input\n",
    "try:\n",
    "    too_young = Person(name=\"Kid\", age=12)\n",
    "except Exception as e:\n",
    "    print(e)"
   ]
  },
  {
   "cell_type": "markdown",
   "metadata": {},
   "source": [
    "## 💰 Price Example: Must be greater than 0"
   ]
  },
  {
   "cell_type": "code",
   "execution_count": null,
   "metadata": {},
   "outputs": [],
   "source": [
    "class Product(BaseModel):\n",
    "    name: str\n",
    "    price: float = Field(gt=0)  # must be strictly greater than 0\n",
    "\n",
    "# Valid\n",
    "product = Product(name=\"Laptop\", price=1099.99)\n",
    "print(product)\n",
    "\n",
    "# Invalid (price is 0)\n",
    "try:\n",
    "    free = Product(name=\"Freebie\", price=0)\n",
    "except Exception as e:\n",
    "    print(e)"
   ]
  },
  {
   "cell_type": "markdown",
   "metadata": {},
   "source": [
    "## 🎯 Percentage Example: Between 0 and 100"
   ]
  },
  {
   "cell_type": "code",
   "execution_count": null,
   "metadata": {},
   "outputs": [],
   "source": [
    "class Score(BaseModel):\n",
    "    name: str\n",
    "    percent: float = Field(ge=0, le=100)\n",
    "\n",
    "# Valid\n",
    "score = Score(name=\"Test1\", percent=88.5)\n",
    "print(score)\n",
    "\n",
    "# Invalid (> 100)\n",
    "try:\n",
    "    invalid_score = Score(name=\"Test2\", percent=104.3)\n",
    "except Exception as e:\n",
    "    print(e)"
   ]
  },
  {
   "cell_type": "markdown",
   "metadata": {},
   "source": [
    "## ✅ Summary: Numeric Constraints\n",
    "\n",
    "| Constraint | Description                        |\n",
    "|------------|------------------------------------|\n",
    "| `gt=val`   | Value must be greater than `val`   |\n",
    "| `ge=val`   | Value must be ≥ `val`              |\n",
    "| `lt=val`   | Value must be less than `val`      |\n",
    "| `le=val`   | Value must be ≤ `val`              |\n",
    "\n",
    "Use these for:\n",
    "- ✅ Age validation\n",
    "- ✅ Price thresholds\n",
    "- ✅ Limit scores, ratings, etc.\n",
    "\n",
    "Pydantic handles validation automatically — you define the logic declaratively!"
   ]
  }
 ],
 "metadata": {
  "kernelspec": {
   "display_name": "Python 3",
   "language": "python",
   "name": "python3"
  },
  "language_info": {
   "codemirror_mode": {
    "name": "ipython",
    "version": 3
   },
   "file_extension": ".py",
   "mimetype": "text/x-python",
   "name": "python",
   "nbconvert_exporter": "python",
   "pygments_lexer": "ipython3",
   "version": "3.13.1"
  }
 },
 "nbformat": 4,
 "nbformat_minor": 2
}
