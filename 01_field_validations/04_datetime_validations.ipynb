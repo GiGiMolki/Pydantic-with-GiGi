{
 "cells": [
  {
   "cell_type": "markdown",
   "metadata": {},
   "source": [
    "# 📘 04 - Datetime Validations in Pydantic\n",
    "\n",
    "Pydantic supports built-in datetime types:\n",
    "- `datetime`: full timestamp\n",
    "- `date`: only date\n",
    "- `time`: only time (without date)\n",
    "\n",
    "It automatically parses valid date/time strings and allows custom validations like:\n",
    "- Past or future checks\n",
    "- Business logic like age verification or deadline enforcement"
   ]
  },
  {
   "cell_type": "code",
   "execution_count": 4,
   "metadata": {},
   "outputs": [],
   "source": [
    "# Import\n",
    "from pydantic import BaseModel, Field, validator\n",
    "from datetime import datetime, date, time"
   ]
  },
  {
   "cell_type": "markdown",
   "metadata": {},
   "source": [
    "## 🧠 Pydantic Auto-Parses Valid Datetime Strings"
   ]
  },
  {
   "cell_type": "code",
   "execution_count": 5,
   "metadata": {},
   "outputs": [
    {
     "name": "stdout",
     "output_type": "stream",
     "text": [
      "name='Webinar' start_time=datetime.datetime(2025, 7, 15, 18, 0)\n"
     ]
    }
   ],
   "source": [
    "class Event(BaseModel):\n",
    "    name: str\n",
    "    start_time: datetime\n",
    "\n",
    "event = Event(name=\"Webinar\", start_time=\"2025-07-15T18:00:00\")\n",
    "print(event)"
   ]
  },
  {
   "cell_type": "markdown",
   "metadata": {},
   "source": [
    "## 🕒 Validate if `date_of_birth` is in the past"
   ]
  },
  {
   "cell_type": "code",
   "execution_count": 6,
   "metadata": {},
   "outputs": [
    {
     "name": "stdout",
     "output_type": "stream",
     "text": [
      "name='GiGi' date_of_birth=datetime.date(2004, 1, 1)\n",
      "1 validation error for Person\n",
      "date_of_birth\n",
      "  Value error, Date of birth must be in the past [type=value_error, input_value='2030-01-01', input_type=str]\n",
      "    For further information visit https://errors.pydantic.dev/2.11/v/value_error\n"
     ]
    },
    {
     "name": "stderr",
     "output_type": "stream",
     "text": [
      "/var/folders/6q/mymvn81j1_d0f0htgctb3bmm0000gn/T/ipykernel_1986/3767231886.py:5: PydanticDeprecatedSince20: Pydantic V1 style `@validator` validators are deprecated. You should migrate to Pydantic V2 style `@field_validator` validators, see the migration guide for more details. Deprecated in Pydantic V2.0 to be removed in V3.0. See Pydantic V2 Migration Guide at https://errors.pydantic.dev/2.11/migration/\n",
      "  @validator(\"date_of_birth\")\n"
     ]
    }
   ],
   "source": [
    "class Person(BaseModel):\n",
    "    name: str\n",
    "    date_of_birth: date\n",
    "\n",
    "    @validator(\"date_of_birth\")\n",
    "    def must_be_in_past(cls, v):\n",
    "        if v >= date.today():\n",
    "            raise ValueError(\"Date of birth must be in the past\")\n",
    "        return v\n",
    "\n",
    "# Valid\n",
    "p = Person(name=\"GiGi\", date_of_birth=\"2004-01-01\")\n",
    "print(p)\n",
    "\n",
    "# Invalid (future date)\n",
    "try:\n",
    "    invalid = Person(name=\"FutureKid\", date_of_birth=\"2030-01-01\")\n",
    "except Exception as e:\n",
    "    print(e)"
   ]
  },
  {
   "cell_type": "markdown",
   "metadata": {},
   "source": [
    "## ⏳ Booking Deadline: Must be in the future"
   ]
  },
  {
   "cell_type": "code",
   "execution_count": 7,
   "metadata": {},
   "outputs": [
    {
     "name": "stdout",
     "output_type": "stream",
     "text": [
      "event_name='Hackathon' deadline=datetime.datetime(2025, 8, 1, 12, 0)\n",
      "1 validation error for Booking\n",
      "deadline\n",
      "  Value error, Deadline must be in the future [type=value_error, input_value='2023-05-10T12:00:00', input_type=str]\n",
      "    For further information visit https://errors.pydantic.dev/2.11/v/value_error\n"
     ]
    },
    {
     "name": "stderr",
     "output_type": "stream",
     "text": [
      "/var/folders/6q/mymvn81j1_d0f0htgctb3bmm0000gn/T/ipykernel_1986/176668943.py:5: PydanticDeprecatedSince20: Pydantic V1 style `@validator` validators are deprecated. You should migrate to Pydantic V2 style `@field_validator` validators, see the migration guide for more details. Deprecated in Pydantic V2.0 to be removed in V3.0. See Pydantic V2 Migration Guide at https://errors.pydantic.dev/2.11/migration/\n",
      "  @validator(\"deadline\")\n"
     ]
    }
   ],
   "source": [
    "class Booking(BaseModel):\n",
    "    event_name: str\n",
    "    deadline: datetime\n",
    "\n",
    "    @validator(\"deadline\")\n",
    "    def must_be_future(cls, v):\n",
    "        if v <= datetime.now():\n",
    "            raise ValueError(\"Deadline must be in the future\")\n",
    "        return v\n",
    "\n",
    "# Valid\n",
    "b = Booking(event_name=\"Hackathon\", deadline=\"2025-08-01T12:00:00\")\n",
    "print(b)\n",
    "\n",
    "# Invalid (past deadline)\n",
    "try:\n",
    "    late_booking = Booking(event_name=\"Old Event\", deadline=\"2023-05-10T12:00:00\")\n",
    "except Exception as e:\n",
    "    print(e)"
   ]
  },
  {
   "cell_type": "markdown",
   "metadata": {},
   "source": [
    "## 🕐 Using `time` field to restrict check-in hours"
   ]
  },
  {
   "cell_type": "code",
   "execution_count": 8,
   "metadata": {},
   "outputs": [
    {
     "name": "stdout",
     "output_type": "stream",
     "text": [
      "user='GiGi' checkin_time=datetime.time(10, 30)\n",
      "1 validation error for CheckIn\n",
      "checkin_time\n",
      "  Value error, Check-in must be during office hours (09:00 - 17:00) [type=value_error, input_value='22:15', input_type=str]\n",
      "    For further information visit https://errors.pydantic.dev/2.11/v/value_error\n"
     ]
    },
    {
     "name": "stderr",
     "output_type": "stream",
     "text": [
      "/var/folders/6q/mymvn81j1_d0f0htgctb3bmm0000gn/T/ipykernel_1986/2101841692.py:5: PydanticDeprecatedSince20: Pydantic V1 style `@validator` validators are deprecated. You should migrate to Pydantic V2 style `@field_validator` validators, see the migration guide for more details. Deprecated in Pydantic V2.0 to be removed in V3.0. See Pydantic V2 Migration Guide at https://errors.pydantic.dev/2.11/migration/\n",
      "  @validator(\"checkin_time\")\n"
     ]
    }
   ],
   "source": [
    "class CheckIn(BaseModel):\n",
    "    user: str\n",
    "    checkin_time: time\n",
    "\n",
    "    @validator(\"checkin_time\")\n",
    "    def must_be_during_office_hours(cls, v):\n",
    "        if not (time(9, 0) <= v <= time(17, 0)):\n",
    "            raise ValueError(\"Check-in must be during office hours (09:00 - 17:00)\")\n",
    "        return v\n",
    "\n",
    "# Valid check-in\n",
    "c = CheckIn(user=\"GiGi\", checkin_time=\"10:30\")\n",
    "print(c)\n",
    "\n",
    "# Invalid check-in\n",
    "try:\n",
    "    night = CheckIn(user=\"NightOwl\", checkin_time=\"22:15\")\n",
    "except Exception as e:\n",
    "    print(e)"
   ]
  },
  {
   "cell_type": "markdown",
   "metadata": {},
   "source": [
    "## ✅ Summary: Datetime Validations\n",
    "\n",
    "| Type       | Description                        |\n",
    "|------------|------------------------------------|\n",
    "| `datetime` | Full timestamp                     |\n",
    "| `date`     | Only date (YYYY-MM-DD)             |\n",
    "| `time`     | Time of day                        |\n",
    "\n",
    "- ✅ Pydantic auto-parses string inputs\n",
    "- ✅ You can write custom `@validator`s to:\n",
    "  - Check if date is in the past or future\n",
    "  - Enforce time ranges (e.g. office hours)\n",
    "  - Prevent invalid scheduling\n",
    "\n",
    "This makes Pydantic ideal for apps that deal with time-sensitive data: bookings, events, age limits, deadlines, etc."
   ]
  }
 ],
 "metadata": {
  "kernelspec": {
   "display_name": "Python 3",
   "language": "python",
   "name": "python3"
  },
  "language_info": {
   "codemirror_mode": {
    "name": "ipython",
    "version": 3
   },
   "file_extension": ".py",
   "mimetype": "text/x-python",
   "name": "python",
   "nbconvert_exporter": "python",
   "pygments_lexer": "ipython3",
   "version": "3.13.1"
  }
 },
 "nbformat": 4,
 "nbformat_minor": 2
}
