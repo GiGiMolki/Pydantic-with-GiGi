{
 "cells": [
  {
   "cell_type": "markdown",
   "metadata": {},
   "source": [
    "# 📘 01 - `@validator` Decorator in Pydantic\n",
    "\n",
    "Pydantic's `@validator` lets us define **custom validation logic** for one or more fields.\n",
    "\n",
    "### 🔧 Why use it?\n",
    "- When built-in constraints like `min_length`, `gt`, or `pattern` are not enough\n",
    "- To enforce business rules\n",
    "- To perform cleanup or transformation during validation\n",
    "\n",
    "### 🧪 Syntax\n",
    "```python\n",
    "@validator(\"field_name\")\n",
    "def validate_field(cls, v):  # cls = class, v = value\n",
    "    ...\n",
    "```\n",
    "\n",
    "\n",
    "- Use @validator for single fields\n",
    "- Use @root_validator for multi-field cross validation"
   ]
  },
  {
   "cell_type": "code",
   "execution_count": 2,
   "metadata": {},
   "outputs": [],
   "source": [
    "# Import\n",
    "from pydantic import BaseModel, validator"
   ]
  },
  {
   "cell_type": "markdown",
   "metadata": {},
   "source": [
    "## ✅ Validate a single field: username should be lowercase and alphanumeric"
   ]
  },
  {
   "cell_type": "code",
   "execution_count": 3,
   "metadata": {},
   "outputs": [
    {
     "name": "stdout",
     "output_type": "stream",
     "text": [
      "username='gigimolki123'\n",
      "1 validation error for User\n",
      "username\n",
      "  Value error, Username must be alphanumeric [type=value_error, input_value='Gigi$Molki', input_type=str]\n",
      "    For further information visit https://errors.pydantic.dev/2.11/v/value_error\n"
     ]
    },
    {
     "name": "stderr",
     "output_type": "stream",
     "text": [
      "/var/folders/6q/mymvn81j1_d0f0htgctb3bmm0000gn/T/ipykernel_2244/3466647754.py:4: PydanticDeprecatedSince20: Pydantic V1 style `@validator` validators are deprecated. You should migrate to Pydantic V2 style `@field_validator` validators, see the migration guide for more details. Deprecated in Pydantic V2.0 to be removed in V3.0. See Pydantic V2 Migration Guide at https://errors.pydantic.dev/2.11/migration/\n",
      "  @validator(\"username\")\n"
     ]
    }
   ],
   "source": [
    "class User(BaseModel):\n",
    "    username: str\n",
    "\n",
    "    @validator(\"username\")\n",
    "    def username_must_be_lowercase_alphanumeric(cls, v):\n",
    "        if not v.isalnum():\n",
    "            raise ValueError(\"Username must be alphanumeric\")\n",
    "        if v != v.lower():\n",
    "            raise ValueError(\"Username must be lowercase\")\n",
    "        return v\n",
    "\n",
    "# Valid username\n",
    "u = User(username=\"gigimolki123\")\n",
    "print(u)\n",
    "\n",
    "# Invalid username\n",
    "try:\n",
    "    invalid = User(username=\"Gigi$Molki\")\n",
    "except Exception as e:\n",
    "    print(e)"
   ]
  },
  {
   "cell_type": "markdown",
   "metadata": {},
   "source": [
    "## 📧 Auto-lowercase and check email contains \"@\""
   ]
  },
  {
   "cell_type": "code",
   "execution_count": 4,
   "metadata": {},
   "outputs": [
    {
     "name": "stdout",
     "output_type": "stream",
     "text": [
      "email='gigi@example.com'\n",
      "1 validation error for Account\n",
      "email\n",
      "  Value error, Invalid email address [type=value_error, input_value='not-an-email', input_type=str]\n",
      "    For further information visit https://errors.pydantic.dev/2.11/v/value_error\n"
     ]
    },
    {
     "name": "stderr",
     "output_type": "stream",
     "text": [
      "/var/folders/6q/mymvn81j1_d0f0htgctb3bmm0000gn/T/ipykernel_2244/2957652163.py:4: PydanticDeprecatedSince20: Pydantic V1 style `@validator` validators are deprecated. You should migrate to Pydantic V2 style `@field_validator` validators, see the migration guide for more details. Deprecated in Pydantic V2.0 to be removed in V3.0. See Pydantic V2 Migration Guide at https://errors.pydantic.dev/2.11/migration/\n",
      "  @validator(\"email\")\n"
     ]
    }
   ],
   "source": [
    "class Account(BaseModel):\n",
    "    email: str\n",
    "\n",
    "    @validator(\"email\")\n",
    "    def validate_email(cls, v):\n",
    "        v = v.strip().lower()\n",
    "        if \"@\" not in v:\n",
    "            raise ValueError(\"Invalid email address\")\n",
    "        return v\n",
    "\n",
    "# Valid\n",
    "a = Account(email=\"  GiGi@Example.COM  \")\n",
    "print(a)\n",
    "\n",
    "# Invalid\n",
    "try:\n",
    "    bad = Account(email=\"not-an-email\")\n",
    "except Exception as e:\n",
    "    print(e)"
   ]
  },
  {
   "cell_type": "markdown",
   "metadata": {},
   "source": [
    "## 🔁 Chain multiple validators using `@validator` with `pre=True`"
   ]
  },
  {
   "cell_type": "code",
   "execution_count": null,
   "metadata": {},
   "outputs": [
    {
     "name": "stdout",
     "output_type": "stream",
     "text": [
      "name='Fancy Lamp'\n",
      "True\n",
      "1 validation error for Product\n",
      "name\n",
      "  Value error, Product name must be title case [type=value_error, input_value='ugly chair', input_type=str]\n",
      "    For further information visit https://errors.pydantic.dev/2.11/v/value_error\n"
     ]
    },
    {
     "name": "stderr",
     "output_type": "stream",
     "text": [
      "/var/folders/6q/mymvn81j1_d0f0htgctb3bmm0000gn/T/ipykernel_2244/1771672428.py:4: PydanticDeprecatedSince20: Pydantic V1 style `@validator` validators are deprecated. You should migrate to Pydantic V2 style `@field_validator` validators, see the migration guide for more details. Deprecated in Pydantic V2.0 to be removed in V3.0. See Pydantic V2 Migration Guide at https://errors.pydantic.dev/2.11/migration/\n",
      "  @validator(\"name\", pre=True)\n",
      "/var/folders/6q/mymvn81j1_d0f0htgctb3bmm0000gn/T/ipykernel_2244/1771672428.py:8: PydanticDeprecatedSince20: Pydantic V1 style `@validator` validators are deprecated. You should migrate to Pydantic V2 style `@field_validator` validators, see the migration guide for more details. Deprecated in Pydantic V2.0 to be removed in V3.0. See Pydantic V2 Migration Guide at https://errors.pydantic.dev/2.11/migration/\n",
      "  @validator(\"name\")\n"
     ]
    }
   ],
   "source": [
    "class Product(BaseModel):\n",
    "    name: str\n",
    "\n",
    "    @validator(\"name\", pre=True)\n",
    "    def strip_whitespace(cls, v):\n",
    "        return v.strip()\n",
    "\n",
    "    @validator(\"name\")\n",
    "    def name_must_be_title_case(cls, v):\n",
    "        if not v.istitle():\n",
    "            raise ValueError(\"Product name must be title case\")\n",
    "        return v\n",
    "\n",
    "# Valid\n",
    "p = Product(name=\"  Fancy Lamp  \")\n",
    "print(p)\n",
    "\n",
    "# Invalid\n",
    "try:\n",
    "    bad_p = Product(name=\"ugly chair\")\n",
    "except Exception as e:\n",
    "    print(e)"
   ]
  },
  {
   "cell_type": "markdown",
   "metadata": {},
   "source": [
    "## ✅ Summary: `@validator` Decorator\n",
    "\n",
    "| Feature            | Use                                |\n",
    "|--------------------|-------------------------------------|\n",
    "| `@validator`        | Single field custom validation     |\n",
    "| `@validator(pre=True)` | Pre-process before type parsing |\n",
    "| `raise ValueError()` | To trigger validation error       |\n",
    "| `strip()`, `lower()` | Useful to normalize data          |\n",
    "\n",
    "The `@validator` is essential when default Field constraints aren't enough.\n",
    "\n",
    "Next → use `@root_validator` for multi-field validation!"
   ]
  }
 ],
 "metadata": {
  "kernelspec": {
   "display_name": "Python 3",
   "language": "python",
   "name": "python3"
  },
  "language_info": {
   "codemirror_mode": {
    "name": "ipython",
    "version": 3
   },
   "file_extension": ".py",
   "mimetype": "text/x-python",
   "name": "python",
   "nbconvert_exporter": "python",
   "pygments_lexer": "ipython3",
   "version": "3.13.1"
  }
 },
 "nbformat": 4,
 "nbformat_minor": 2
}
