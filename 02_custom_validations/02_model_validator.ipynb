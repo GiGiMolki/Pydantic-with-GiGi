{
 "cells": [
  {
   "cell_type": "markdown",
   "metadata": {},
   "source": [
    "# 📘 02 - `@root_validator` in Pydantic\n",
    "\n",
    "`@root_validator` is used when you want to validate or transform multiple fields **together**.\n",
    "\n",
    "### 🔍 Why use `@root_validator`?\n",
    "- Validate interdependent fields\n",
    "- Enforce cross-field rules\n",
    "- Perform cleanups using all data\n",
    "\n",
    "### 🧪 Syntax\n",
    "```python\n",
    "@root_validator\n",
    "def check_all_fields(cls, values):\n",
    "    ...\n",
    "    return values\n",
    "```"
   ]
  },
  {
   "cell_type": "markdown",
   "metadata": {},
   "source": [
    "### ⚠️ Note: `@root_validator` is Deprecated in Pydantic v2\n",
    "\n",
    "Use `@model_validator(mode=\"after\")` to validate multiple fields **after** model initialization.\n",
    "\n",
    "```python\n",
    "@model_validator(mode=\"after\")\n",
    "def validate(cls): ..."
   ]
  },
  {
   "cell_type": "code",
   "execution_count": 9,
   "metadata": {},
   "outputs": [],
   "source": [
    "# Import\n",
    "from pydantic import BaseModel, root_validator, model_validator\n",
    "from datetime import date"
   ]
  },
  {
   "cell_type": "markdown",
   "metadata": {},
   "source": [
    "### 🔐 Validating Conditional Logic with `@model_validator`\n",
    "\n",
    "When you want to validate relationships between multiple fields (e.g., `is_admin` and `admin_code`), use the `@model_validator` in **Pydantic v2+**.\n",
    "\n",
    "- `mode=\"after\"` ensures validation happens after the model is built\n",
    "- You access the **entire object (`self`)**, not just a dictionary of values\n",
    "\n",
    "#### Example Logic:\n",
    "- If `is_admin` is `True`, then `admin_code` must be provided\n",
    "- If not, raise a validation error\n",
    "\n",
    "This pattern is clean and scalable for enforcing conditional rules across fields."
   ]
  },
  {
   "cell_type": "markdown",
   "metadata": {},
   "source": [
    "## 🗓️ Validate that end_date is after start_date"
   ]
  },
  {
   "cell_type": "code",
   "execution_count": 10,
   "metadata": {},
   "outputs": [
    {
     "name": "stdout",
     "output_type": "stream",
     "text": [
      "name='Workshop' start_date=datetime.date(2025, 7, 1) end_date=datetime.date(2025, 7, 10)\n",
      "1 validation error for Event\n",
      "  Value error, end_date must be after start_date [type=value_error, input_value={'name': 'Hackathon', 'st...end_date': '2025-07-10'}, input_type=dict]\n",
      "    For further information visit https://errors.pydantic.dev/2.11/v/value_error\n"
     ]
    }
   ],
   "source": [
    "class Event(BaseModel):\n",
    "    name: str\n",
    "    start_date: date\n",
    "    end_date: date\n",
    "\n",
    "    @model_validator(mode=\"after\")\n",
    "    def check_dates(self):\n",
    "        if self.end_date < self.start_date:\n",
    "            raise ValueError(\"end_date must be after start_date\")\n",
    "        return self\n",
    "\n",
    "# ✅ Valid event\n",
    "e = Event(name=\"Workshop\", start_date=\"2025-07-01\", end_date=\"2025-07-10\")\n",
    "print(e)\n",
    "\n",
    "# ❌ Invalid event: end_date before start_date\n",
    "try:\n",
    "    bad = Event(name=\"Hackathon\", start_date=\"2025-08-01\", end_date=\"2025-07-10\")\n",
    "except Exception as err:\n",
    "    print(err)"
   ]
  },
  {
   "cell_type": "markdown",
   "metadata": {},
   "source": [
    "## 🔐 Example: If `is_admin=True`, `admin_code` must be provided"
   ]
  },
  {
   "cell_type": "code",
   "execution_count": 11,
   "metadata": {},
   "outputs": [
    {
     "name": "stdout",
     "output_type": "stream",
     "text": [
      "username='gigi' is_admin=True admin_code='ADM123'\n",
      "1 validation error for User\n",
      "  Value error, Admin code is required for admin users [type=value_error, input_value={'username': 'gigi', 'is_admin': True}, input_type=dict]\n",
      "    For further information visit https://errors.pydantic.dev/2.11/v/value_error\n"
     ]
    }
   ],
   "source": [
    "class User(BaseModel):\n",
    "    username: str\n",
    "    is_admin: bool = False\n",
    "    admin_code: str | None = None\n",
    "\n",
    "    @model_validator(mode=\"after\")\n",
    "    def check_admin_code(self):\n",
    "        if self.is_admin and not self.admin_code:\n",
    "            raise ValueError(\"Admin code is required for admin users\")\n",
    "        return self\n",
    "\n",
    "# ✅ Valid\n",
    "u = User(username=\"gigi\", is_admin=True, admin_code=\"ADM123\")\n",
    "print(u)\n",
    "\n",
    "# ❌ Invalid: is_admin but no admin_code\n",
    "try:\n",
    "    bad = User(username=\"gigi\", is_admin=True)\n",
    "except Exception as err:\n",
    "    print(err)"
   ]
  },
  {
   "cell_type": "markdown",
   "metadata": {},
   "source": [
    "## ✅ Summary: `@model_validator` (Pydantic v2)\n",
    "\n",
    "| Feature                   | Use Case                                    |\n",
    "|---------------------------|---------------------------------------------|\n",
    "| `@model_validator`        | Validate across multiple fields             |\n",
    "| `self` access             | Receives the entire model instance          |\n",
    "| `mode=\"after\"`            | Runs after all fields are validated         |\n",
    "| Must `return self`        | To retain the validated model instance      |\n",
    "| `raise ValueError`        | To raise a custom validation error          |\n",
    "\n",
    "Use `@model_validator` when the relationship **between multiple fields** matters.\n",
    "\n",
    "> ⚠️ Note: `@root_validator` is **deprecated** in Pydantic v2."
   ]
  }
 ],
 "metadata": {
  "kernelspec": {
   "display_name": "Python 3",
   "language": "python",
   "name": "python3"
  },
  "language_info": {
   "codemirror_mode": {
    "name": "ipython",
    "version": 3
   },
   "file_extension": ".py",
   "mimetype": "text/x-python",
   "name": "python",
   "nbconvert_exporter": "python",
   "pygments_lexer": "ipython3",
   "version": "3.13.1"
  }
 },
 "nbformat": 4,
 "nbformat_minor": 2
}
