{
 "cells": [
  {
   "cell_type": "markdown",
   "metadata": {},
   "source": [
    "# 🧪 Class Field Validators with `@field_validator`\n",
    "\n",
    "Pydantic allows you to define custom validations for **individual fields** at the class level using the `@field_validator` decorator (introduced in Pydantic v2).\n",
    "\n",
    "This helps you:\n",
    "- Add domain-specific rules for a field\n",
    "- Sanitize or transform input before it's accepted\n",
    "- Raise errors with custom messages\n",
    "\n",
    "Let’s walk through how to use it!"
   ]
  },
  {
   "cell_type": "code",
   "execution_count": 1,
   "metadata": {},
   "outputs": [],
   "source": [
    "from pydantic import BaseModel, field_validator\n",
    "\n",
    "class Product(BaseModel):\n",
    "    name: str\n",
    "    price: float\n",
    "\n",
    "    @field_validator(\"price\")\n",
    "    @classmethod\n",
    "    def validate_price(cls, value):\n",
    "        if value <= 0:\n",
    "            raise ValueError(\"Price must be a positive number.\")\n",
    "        return value"
   ]
  },
  {
   "cell_type": "markdown",
   "metadata": {},
   "source": [
    "### ✅ What’s happening here?\n",
    "\n",
    "- `@field_validator(\"price\")`: Binds the validator to the `price` field.\n",
    "- `@classmethod`: Required for all field validators.\n",
    "- `value`: The value being passed into the model.\n",
    "- You must **return** the validated value (or raise an error).\n",
    "\n",
    "This ensures that no invalid price (like `0` or negative) is ever accepted."
   ]
  },
  {
   "cell_type": "code",
   "execution_count": 2,
   "metadata": {},
   "outputs": [
    {
     "name": "stdout",
     "output_type": "stream",
     "text": [
      "name='Laptop' price=1500.0\n",
      "1 validation error for Product\n",
      "price\n",
      "  Value error, Price must be a positive number. [type=value_error, input_value=-50, input_type=int]\n",
      "    For further information visit https://errors.pydantic.dev/2.11/v/value_error\n"
     ]
    }
   ],
   "source": [
    "# ✅ Valid product\n",
    "valid_product = Product(name=\"Laptop\", price=1500.0)\n",
    "print(valid_product)\n",
    "\n",
    "# ❌ Invalid product: negative price\n",
    "try:\n",
    "    invalid_product = Product(name=\"Cheap Mouse\", price=-50)\n",
    "except Exception as err:\n",
    "    print(err)"
   ]
  },
  {
   "cell_type": "markdown",
   "metadata": {},
   "source": [
    "### 🔁 Reusable Validation\n",
    "\n",
    "You can reuse the same validator logic across multiple fields by listing them:\n",
    "\n",
    "```python\n",
    "@field_validator(\"price\", \"discount_price\")\n",
    "@classmethod\n",
    "def check_positive(cls, v):\n",
    "    if v <= 0:\n",
    "        raise ValueError(\"Must be positive\")\n",
    "    return v"
   ]
  },
  {
   "cell_type": "markdown",
   "metadata": {},
   "source": [
    "---\n",
    "\n",
    "#### ✅ Markdown Cell: Summary\n",
    "\n",
    "```markdown\n",
    "## ✅ Summary: `@field_validator`\n",
    "\n",
    "| Feature                   | Description                              |\n",
    "|---------------------------|------------------------------------------|\n",
    "| `@field_validator`        | Used to validate individual fields       |\n",
    "| Accepts multiple fields   | One function can validate many fields    |\n",
    "| Must return value         | Or raise a `ValueError`                  |\n",
    "| Useful for custom rules   | E.g., checking positivity, formatting    |\n",
    "\n",
    "Use `@field_validator` when you need **fine-grained control** over field-level validation."
   ]
  }
 ],
 "metadata": {
  "kernelspec": {
   "display_name": "Python 3",
   "language": "python",
   "name": "python3"
  },
  "language_info": {
   "codemirror_mode": {
    "name": "ipython",
    "version": 3
   },
   "file_extension": ".py",
   "mimetype": "text/x-python",
   "name": "python",
   "nbconvert_exporter": "python",
   "pygments_lexer": "ipython3",
   "version": "3.13.1"
  }
 },
 "nbformat": 4,
 "nbformat_minor": 2
}
